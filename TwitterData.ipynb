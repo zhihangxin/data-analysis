{
 "cells": [
  {
   "cell_type": "code",
   "execution_count": null,
   "metadata": {},
   "outputs": [],
   "source": [
    "from requests_oauthlib import OAuth1Session"
   ]
  },
  {
   "cell_type": "code",
   "execution_count": null,
   "metadata": {},
   "outputs": [],
   "source": [
    "import json"
   ]
  },
  {
   "cell_type": "code",
   "execution_count": null,
   "metadata": {},
   "outputs": [],
   "source": [
    "import matplotlib.pyplot as plt"
   ]
  },
  {
   "cell_type": "code",
   "execution_count": null,
   "metadata": {},
   "outputs": [],
   "source": [
    "import seaborn as sns"
   ]
  },
  {
   "cell_type": "code",
   "execution_count": null,
   "metadata": {},
   "outputs": [],
   "source": [
    "import numpy as np"
   ]
  },
  {
   "cell_type": "code",
   "execution_count": null,
   "metadata": {},
   "outputs": [],
   "source": [
    "import pandas as pd"
   ]
  },
  {
   "cell_type": "code",
   "execution_count": null,
   "metadata": {},
   "outputs": [],
   "source": [
    "import datetime as dt"
   ]
  },
  {
   "cell_type": "code",
   "execution_count": null,
   "metadata": {},
   "outputs": [],
   "source": [
    "%matplotlib inline"
   ]
  },
  {
   "cell_type": "code",
   "execution_count": null,
   "metadata": {},
   "outputs": [],
   "source": [
    "KEYS = {\n",
    "    'consumer_key' : '<your consumer_key>',\n",
    "    'consumer_secret' : '<your consumer_secret>',\n",
    "    'access_token' : 'your access_token',\n",
    "    'access_secret' : 'your access_secret',\n",
    "}"
   ]
  },
  {
   "cell_type": "code",
   "execution_count": null,
   "metadata": {},
   "outputs": [],
   "source": [
    "twitter = OAuth1Session(KEYS['consumer_key'],KEYS['consumer_secret'],KEYS['access_token'],KEYS['access_secret'])"
   ]
  },
  {
   "cell_type": "code",
   "execution_count": null,
   "metadata": {},
   "outputs": [],
   "source": [
    "def getTwitterData(key_word, repeat):\n",
    "    url = \"https://api.twitter.com/1.1/search/tweets.json\"\n",
    "    params ={'q': key_word, 'count':'100','lang':'ja', 'result_type':'recent'}\n",
    "    tweets = []\n",
    "    mid = -1\n",
    "    break_flag = 0\n",
    "    \n",
    "    for i in range(repeat):\n",
    "        params['max_id'] = mid\n",
    "        res = twitter.get(url, params = params)\n",
    "        if res.status_code == 200:\n",
    "            sub_tweets = json.loads(res.text)['statuses']\n",
    "            limit = res.headers['x-rate-limit-remaining'] if 'x-rate-limit-remaining' in res.headers else 0\n",
    "#            print(\"API残接続可能回数：%s\" % len(limit))            \n",
    "            tweet_ids = []\n",
    "            for tweet in sub_tweets:\n",
    "                tweet_ids.append(int(tweet['id']))\n",
    "                tweets.append(tweet)\n",
    "            if len(tweet_ids) > 0:\n",
    "                min_tweet_id = min(tweet_ids)\n",
    "                mid = min_tweet_id - 1\n",
    "            else:\n",
    "                break_flag = 1\n",
    "                break;\n",
    "                \n",
    "            ## 終了判定\n",
    "            if break_flag == 1:\n",
    "                break;\n",
    "                \n",
    "        else:\n",
    "            print(\"Failed: %d\" % res.status_code)\n",
    "            break_flag = 1\n",
    "    \n",
    "    print(\"ツイート取得数：%s\" % len(tweets))\n",
    "        \n",
    "    return tweets"
   ]
  },
  {
   "cell_type": "code",
   "execution_count": null,
   "metadata": {},
   "outputs": [],
   "source": [
    "tweets = getTwitterData(\"<key word> <-RT:リツイートを取り除く>\", 180)"
   ]
  },
  {
   "cell_type": "code",
   "execution_count": null,
   "metadata": {
    "scrolled": true
   },
   "outputs": [],
   "source": [
    "df_tweet = pd.DataFrame(tweets)"
   ]
  },
  {
   "cell_type": "code",
   "execution_count": null,
   "metadata": {},
   "outputs": [],
   "source": [
    "df_tweet.to_csv(\"<フィール名>.csv\")"
   ]
  },
  {
   "cell_type": "code",
   "execution_count": null,
   "metadata": {},
   "outputs": [],
   "source": [
    "df_tweet[\"created_at\"] = pd.to_datetime(df_tweet[\"created_at\"])"
   ]
  },
  {
   "cell_type": "code",
   "execution_count": null,
   "metadata": {},
   "outputs": [],
   "source": [
    "plt.figure(figsize=(20,5))\n",
    "g = sns.barplot(x=\"created_at\", y=\"id\", data=df_tweet.set_index(\"created_at\").resample(\"h\")[\"id\"].count().reset_index())\n",
    "labels = g.get_xticklabels()\n",
    "g.set_xticklabels(labels, rotation=90)\n",
    "plt.show()"
   ]
  }
 ],
 "metadata": {
  "kernelspec": {
   "display_name": "Python 3",
   "language": "python",
   "name": "python3"
  },
  "language_info": {
   "codemirror_mode": {
    "name": "ipython",
    "version": 3
   },
   "file_extension": ".py",
   "mimetype": "text/x-python",
   "name": "python",
   "nbconvert_exporter": "python",
   "pygments_lexer": "ipython3",
   "version": "3.7.9"
  }
 },
 "nbformat": 4,
 "nbformat_minor": 4
}
